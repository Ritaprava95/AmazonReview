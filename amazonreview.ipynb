{
 "cells": [
  {
   "cell_type": "code",
   "execution_count": 1,
   "metadata": {
    "_cell_guid": "b1076dfc-b9ad-4769-8c92-a6c4dae69d19",
    "_uuid": "8f2839f25d086af736a60e9eeb907d3b93b6e0e5"
   },
   "outputs": [
    {
     "name": "stdout",
     "output_type": "stream",
     "text": [
      "/kaggle/input/glove6b100dtxt/glove.6B.100d.txt\n",
      "/kaggle/input/amazon/Sample_Submission.csv\n",
      "/kaggle/input/amazon/test.csv\n",
      "/kaggle/input/amazon/train.csv\n"
     ]
    }
   ],
   "source": [
    "# This Python 3 environment comes with many helpful analytics libraries installed\n",
    "# It is defined by the kaggle/python docker image: https://github.com/kaggle/docker-python\n",
    "# For example, here's several helpful packages to load in \n",
    "\n",
    "import numpy as np # linear algebra\n",
    "import pandas as pd # data processing, CSV file I/O (e.g. pd.read_csv)\n",
    "\n",
    "# Input data files are available in the \"../input/\" directory.\n",
    "# For example, running this (by clicking run or pressing Shift+Enter) will list all files under the input directory\n",
    "\n",
    "import os\n",
    "for dirname, _, filenames in os.walk('/kaggle/input'):\n",
    "    for filename in filenames:\n",
    "        print(os.path.join(dirname, filename))\n",
    "\n",
    "# Any results you write to the current directory are saved as output."
   ]
  },
  {
   "cell_type": "markdown",
   "metadata": {},
   "source": [
    "Importing all the necessary packages "
   ]
  },
  {
   "cell_type": "code",
   "execution_count": 2,
   "metadata": {
    "_cell_guid": "79c7e3d0-c299-4dcb-8224-4455121ee9b0",
    "_uuid": "d629ff2d2480ee46fbb7e2d37f6b5fab8052498a"
   },
   "outputs": [
    {
     "name": "stderr",
     "output_type": "stream",
     "text": [
      "Using TensorFlow backend.\n"
     ]
    }
   ],
   "source": [
    "import os\n",
    "import numpy as np\n",
    "import pandas as pd\n",
    "import re\n",
    "import string\n",
    "from string import digits\n",
    "import keras.backend as K\n",
    "import tensorflow as tf\n",
    "from keras.preprocessing.text import Tokenizer\n",
    "from keras.preprocessing.sequence import pad_sequences\n",
    "from keras.models import Sequential, Model\n",
    "from keras.layers import Dense, Flatten, Input, Embedding, SimpleRNN, LSTM, Dropout, Activation\n",
    "from sklearn.model_selection import train_test_split\n",
    "from keras.utils import to_categorical\n",
    "from keras.optimizers import Adam, SGD, RMSprop\n",
    "import matplotlib.pyplot as plt\n"
   ]
  },
  {
   "cell_type": "markdown",
   "metadata": {},
   "source": [
    "Importing and preparing data "
   ]
  },
  {
   "cell_type": "code",
   "execution_count": 3,
   "metadata": {},
   "outputs": [],
   "source": [
    "train_data = pd.read_csv(\"/kaggle/input/amazon/train.csv\")\n",
    "\n",
    "\n",
    "train_title_X = train_data.loc[:,'Review Title']\n",
    "train_title_X = [x.lower() for x in train_title_X]\n",
    "#train_title_X = [re.sub(\"'\", '', x) for x in train_title_X]\n",
    "train_text_X = train_data.loc[:,'Review Text']\n",
    "train_text_X = [x.lower() for x in train_text_X]\n",
    "#train_text_X = [re.sub(\"'\", '', x) for x in train_text_X]\n",
    "train_y = train_data['topic']\n",
    "train_y = pd.get_dummies(train_y)\n",
    "\n",
    "t = Tokenizer()\n",
    "t.fit_on_texts(train_title_X)\n",
    "title_vocab_size = len(t.word_index) + 1\n",
    "    \n",
    "encoded_train_title_X = t.texts_to_sequences(train_title_X)\n",
    "    \n",
    "word_title_index = t.word_index\n",
    "\n",
    "t.fit_on_texts(train_text_X)\n",
    "text_vocab_size = len(t.word_index) + 1\n",
    "\n",
    "encoded_train_text_X = t.texts_to_sequences(train_text_X)\n",
    "\n",
    "word_text_index = t.word_index\n",
    "\n",
    "\n",
    "max_title_length = max([len(x) for x in encoded_train_title_X])\n",
    "padded_train_title_X = pad_sequences(encoded_train_title_X, maxlen=max_title_length, padding='post')\n",
    "\n",
    "max_text_length = max([len(x) for x in encoded_train_text_X])\n",
    "padded_train_text_X = pad_sequences(encoded_train_text_X, maxlen=max_text_length, padding='post')\n",
    "    \n",
    "    \n",
    "embeddings_index = dict()\n",
    "words = []\n",
    "f = open('/kaggle/input/glove6b100dtxt/glove.6B.100d.txt', encoding=\"utf8\")\n",
    "for line in f:\n",
    "    values = line.split()\n",
    "    word = values[0]\n",
    "    words.append(word)\n",
    "    coefs = np.asarray(values[1:], dtype='float32')\n",
    "    embeddings_index[word] = coefs\n",
    "    \t\n",
    "f.close()\n",
    "#print('Loaded %s word vectors.' % len(embeddings_index))\n",
    "    \n",
    "embedding_title_matrix = np.zeros((title_vocab_size, 100))\n",
    "for word, i in word_title_index.items():\n",
    "   embedding_vector = embeddings_index.get(word)\n",
    "   if embedding_vector is not None:\n",
    "       embedding_title_matrix[i] = embedding_vector\n",
    "       \n",
    "embedding_text_matrix = np.zeros((text_vocab_size, 100))\n",
    "for word, i in word_text_index.items():\n",
    "    embedding_vector = embeddings_index.get(word)\n",
    "    if embedding_vector is not None:\n",
    "        embedding_text_matrix[i] = embedding_vector"
   ]
  },
  {
   "cell_type": "markdown",
   "metadata": {},
   "source": [
    "Defining the model"
   ]
  },
  {
   "cell_type": "code",
   "execution_count": 4,
   "metadata": {},
   "outputs": [
    {
     "name": "stdout",
     "output_type": "stream",
     "text": [
      "Model: \"model_1\"\n",
      "_________________________________________________________________\n",
      "Layer (type)                 Output Shape              Param #   \n",
      "=================================================================\n",
      "input_1 (InputLayer)         (None, 20)                0         \n",
      "_________________________________________________________________\n",
      "embedding_1 (Embedding)      (None, 20, 100)           258800    \n",
      "_________________________________________________________________\n",
      "lstm_1 (LSTM)                (None, 128)               117248    \n",
      "_________________________________________________________________\n",
      "dropout_1 (Dropout)          (None, 128)               0         \n",
      "_________________________________________________________________\n",
      "dense_1 (Dense)              (None, 21)                2709      \n",
      "_________________________________________________________________\n",
      "activation_1 (Activation)    (None, 21)                0         \n",
      "=================================================================\n",
      "Total params: 378,757\n",
      "Trainable params: 119,957\n",
      "Non-trainable params: 258,800\n",
      "_________________________________________________________________\n"
     ]
    }
   ],
   "source": [
    "sentences_title = Input((max_title_length,), dtype='int32')\n",
    "embeddings_title = Embedding(title_vocab_size, 100, weights=[embedding_title_matrix], input_length=max_title_length, trainable=False)(sentences_title)\n",
    "X = LSTM(128, return_sequences=False)(embeddings_title)\n",
    "X = Dropout(0.2)(X)\n",
    "X = Dense(21)(X)\n",
    "X = Activation('softmax')(X)\n",
    "\n",
    "sentences_text = Input((max_text_length,), dtype='int32')\n",
    "embeddings_text = Embedding(text_vocab_size, 100, weights=[embedding_text_matrix], input_length=max_text_length, trainable=False)(sentences_text)\n",
    "X2 = LSTM(128, return_sequences=True)(embeddings_text)\n",
    "X2 = LSTM(128, return_sequences=False)(X2)\n",
    "X2 = Dense(21)(X2)\n",
    "X2 = Activation('softmax')(X2)\n",
    "    \n",
    "model = Model(inputs=sentences_title, outputs=X)\n",
    "model.summary()"
   ]
  },
  {
   "cell_type": "markdown",
   "metadata": {},
   "source": [
    "Compiling and training"
   ]
  },
  {
   "cell_type": "code",
   "execution_count": 5,
   "metadata": {},
   "outputs": [
    {
     "name": "stdout",
     "output_type": "stream",
     "text": [
      "Optimizer :<keras.optimizers.Adam object at 0x7f5040c0c2b0>\n",
      "Train on 4767 samples, validate on 1192 samples\n",
      "Epoch 1/50\n",
      "4767/4767 [==============================] - 6s 1ms/step - loss: 2.6095 - accuracy: 0.1972 - val_loss: 2.4203 - val_accuracy: 0.2341\n",
      "Epoch 2/50\n",
      "4767/4767 [==============================] - 5s 958us/step - loss: 2.3735 - accuracy: 0.2517 - val_loss: 2.2954 - val_accuracy: 0.2626\n",
      "Epoch 3/50\n",
      "4767/4767 [==============================] - 5s 964us/step - loss: 2.2614 - accuracy: 0.3140 - val_loss: 2.2017 - val_accuracy: 0.3314\n",
      "Epoch 4/50\n",
      "4767/4767 [==============================] - 5s 963us/step - loss: 2.1711 - accuracy: 0.3524 - val_loss: 2.1337 - val_accuracy: 0.3708\n",
      "Epoch 5/50\n",
      "4767/4767 [==============================] - 5s 962us/step - loss: 2.1005 - accuracy: 0.3784 - val_loss: 2.1013 - val_accuracy: 0.3918\n",
      "Epoch 6/50\n",
      "4767/4767 [==============================] - 5s 980us/step - loss: 2.0431 - accuracy: 0.3958 - val_loss: 2.0645 - val_accuracy: 0.4119\n",
      "Epoch 7/50\n",
      "4767/4767 [==============================] - 5s 966us/step - loss: 1.9840 - accuracy: 0.4145 - val_loss: 2.0473 - val_accuracy: 0.4144\n",
      "Epoch 8/50\n",
      "4767/4767 [==============================] - 5s 969us/step - loss: 1.9341 - accuracy: 0.4359 - val_loss: 1.9844 - val_accuracy: 0.4270\n",
      "Epoch 9/50\n",
      "4767/4767 [==============================] - 5s 970us/step - loss: 1.8889 - accuracy: 0.4389 - val_loss: 1.9833 - val_accuracy: 0.4211\n",
      "Epoch 10/50\n",
      "4767/4767 [==============================] - 5s 973us/step - loss: 1.8444 - accuracy: 0.4609 - val_loss: 1.9606 - val_accuracy: 0.4337\n",
      "Epoch 11/50\n",
      "4767/4767 [==============================] - 5s 967us/step - loss: 1.8112 - accuracy: 0.4726 - val_loss: 1.9480 - val_accuracy: 0.4362\n",
      "Epoch 12/50\n",
      "4767/4767 [==============================] - 5s 968us/step - loss: 1.7851 - accuracy: 0.4741 - val_loss: 1.9190 - val_accuracy: 0.4522\n",
      "Epoch 13/50\n",
      "4767/4767 [==============================] - 5s 959us/step - loss: 1.7424 - accuracy: 0.4867 - val_loss: 1.9164 - val_accuracy: 0.4606\n",
      "Epoch 14/50\n",
      "4767/4767 [==============================] - 5s 963us/step - loss: 1.7294 - accuracy: 0.4947 - val_loss: 1.9315 - val_accuracy: 0.4581\n",
      "Epoch 15/50\n",
      "4767/4767 [==============================] - 5s 965us/step - loss: 1.6938 - accuracy: 0.5018 - val_loss: 1.9405 - val_accuracy: 0.4522\n",
      "Epoch 16/50\n",
      "4767/4767 [==============================] - 5s 966us/step - loss: 1.6661 - accuracy: 0.5104 - val_loss: 1.9614 - val_accuracy: 0.4513\n",
      "Epoch 17/50\n",
      "4767/4767 [==============================] - 5s 958us/step - loss: 1.6295 - accuracy: 0.5158 - val_loss: 1.9581 - val_accuracy: 0.4480\n",
      "Epoch 18/50\n",
      "4767/4767 [==============================] - 5s 958us/step - loss: 1.6150 - accuracy: 0.5226 - val_loss: 1.9506 - val_accuracy: 0.4572\n",
      "Epoch 19/50\n",
      "4767/4767 [==============================] - 5s 960us/step - loss: 1.5835 - accuracy: 0.5259 - val_loss: 1.9507 - val_accuracy: 0.4606\n",
      "Epoch 20/50\n",
      "4767/4767 [==============================] - 5s 953us/step - loss: 1.5682 - accuracy: 0.5316 - val_loss: 1.9905 - val_accuracy: 0.4513\n",
      "Epoch 21/50\n",
      "4767/4767 [==============================] - 5s 961us/step - loss: 1.5494 - accuracy: 0.5400 - val_loss: 1.9462 - val_accuracy: 0.4555\n",
      "Epoch 22/50\n",
      "4767/4767 [==============================] - 5s 955us/step - loss: 1.5135 - accuracy: 0.5490 - val_loss: 1.9830 - val_accuracy: 0.4471\n",
      "Epoch 23/50\n",
      "4767/4767 [==============================] - 5s 963us/step - loss: 1.4911 - accuracy: 0.5479 - val_loss: 2.0090 - val_accuracy: 0.4497\n",
      "Epoch 24/50\n",
      "4767/4767 [==============================] - 5s 960us/step - loss: 1.4582 - accuracy: 0.5614 - val_loss: 2.0015 - val_accuracy: 0.4488\n",
      "Epoch 25/50\n",
      "4767/4767 [==============================] - 5s 961us/step - loss: 1.4493 - accuracy: 0.5567 - val_loss: 2.0437 - val_accuracy: 0.4471\n",
      "Epoch 26/50\n",
      "4767/4767 [==============================] - 5s 961us/step - loss: 1.4337 - accuracy: 0.5632 - val_loss: 2.0395 - val_accuracy: 0.4581\n",
      "Epoch 27/50\n",
      "4767/4767 [==============================] - 5s 973us/step - loss: 1.4041 - accuracy: 0.5723 - val_loss: 2.1097 - val_accuracy: 0.4379\n",
      "Epoch 28/50\n",
      "4767/4767 [==============================] - 5s 974us/step - loss: 1.3955 - accuracy: 0.5653 - val_loss: 2.0641 - val_accuracy: 0.4522\n",
      "Epoch 29/50\n",
      "4767/4767 [==============================] - 5s 967us/step - loss: 1.3628 - accuracy: 0.5765 - val_loss: 2.0937 - val_accuracy: 0.4413\n",
      "Epoch 30/50\n",
      "4767/4767 [==============================] - 5s 959us/step - loss: 1.3442 - accuracy: 0.5750 - val_loss: 2.0968 - val_accuracy: 0.4539\n",
      "Epoch 31/50\n",
      "4767/4767 [==============================] - 5s 964us/step - loss: 1.3225 - accuracy: 0.5796 - val_loss: 2.1602 - val_accuracy: 0.4463\n",
      "Epoch 32/50\n",
      "4767/4767 [==============================] - 5s 958us/step - loss: 1.3132 - accuracy: 0.5893 - val_loss: 2.1346 - val_accuracy: 0.4446\n",
      "Epoch 33/50\n",
      "4767/4767 [==============================] - 5s 969us/step - loss: 1.3090 - accuracy: 0.5825 - val_loss: 2.1687 - val_accuracy: 0.4413\n",
      "Epoch 34/50\n",
      "4767/4767 [==============================] - 5s 959us/step - loss: 1.2810 - accuracy: 0.5901 - val_loss: 2.1907 - val_accuracy: 0.4354\n",
      "Epoch 35/50\n",
      "4767/4767 [==============================] - 5s 967us/step - loss: 1.2474 - accuracy: 0.5958 - val_loss: 2.2044 - val_accuracy: 0.4388\n",
      "Epoch 36/50\n",
      "4767/4767 [==============================] - 5s 958us/step - loss: 1.2402 - accuracy: 0.5953 - val_loss: 2.2322 - val_accuracy: 0.4404\n",
      "Epoch 37/50\n",
      "4767/4767 [==============================] - 5s 965us/step - loss: 1.2301 - accuracy: 0.5987 - val_loss: 2.2341 - val_accuracy: 0.4396\n",
      "Epoch 38/50\n",
      "4767/4767 [==============================] - 5s 1ms/step - loss: 1.1964 - accuracy: 0.6014 - val_loss: 2.2570 - val_accuracy: 0.4438\n",
      "Epoch 39/50\n",
      "4767/4767 [==============================] - 5s 967us/step - loss: 1.1730 - accuracy: 0.6050 - val_loss: 2.2951 - val_accuracy: 0.4430\n",
      "Epoch 40/50\n",
      "4767/4767 [==============================] - 5s 962us/step - loss: 1.1557 - accuracy: 0.6102 - val_loss: 2.3270 - val_accuracy: 0.4211\n",
      "Epoch 41/50\n",
      "4767/4767 [==============================] - 5s 964us/step - loss: 1.1643 - accuracy: 0.6083 - val_loss: 2.2886 - val_accuracy: 0.4404\n",
      "Epoch 42/50\n",
      "4767/4767 [==============================] - 5s 973us/step - loss: 1.1442 - accuracy: 0.6113 - val_loss: 2.2947 - val_accuracy: 0.4505\n",
      "Epoch 43/50\n",
      "4767/4767 [==============================] - 5s 961us/step - loss: 1.1512 - accuracy: 0.6125 - val_loss: 2.3852 - val_accuracy: 0.4346\n",
      "Epoch 44/50\n",
      "4767/4767 [==============================] - 5s 968us/step - loss: 1.1373 - accuracy: 0.6090 - val_loss: 2.3045 - val_accuracy: 0.4413\n",
      "Epoch 45/50\n",
      "4767/4767 [==============================] - 5s 964us/step - loss: 1.1074 - accuracy: 0.6195 - val_loss: 2.3450 - val_accuracy: 0.4446\n",
      "Epoch 46/50\n",
      "4767/4767 [==============================] - 5s 962us/step - loss: 1.0910 - accuracy: 0.6230 - val_loss: 2.3630 - val_accuracy: 0.4371\n",
      "Epoch 47/50\n",
      "4767/4767 [==============================] - 5s 960us/step - loss: 1.0811 - accuracy: 0.6211 - val_loss: 2.3968 - val_accuracy: 0.4279\n",
      "Epoch 48/50\n",
      "4767/4767 [==============================] - 5s 967us/step - loss: 1.0825 - accuracy: 0.6178 - val_loss: 2.4197 - val_accuracy: 0.4304\n",
      "Epoch 49/50\n",
      "4767/4767 [==============================] - 5s 959us/step - loss: 1.0685 - accuracy: 0.6274 - val_loss: 2.4263 - val_accuracy: 0.4430\n",
      "Epoch 50/50\n",
      "4767/4767 [==============================] - 5s 960us/step - loss: 1.0612 - accuracy: 0.6203 - val_loss: 2.4363 - val_accuracy: 0.4421\n"
     ]
    },
    {
     "data": {
      "image/png": "[encoded data removed]",
      "text/plain": [
       "<Figure size 432x288 with 1 Axes>"
      ]
     },
     "metadata": {
      "needs_background": "light"
     },
     "output_type": "display_data"
    }
   ],
   "source": [
    "epochs=50\n",
    "lr=.001\n",
    "decay = lr/epochs\n",
    "adam = Adam(lr=lr, beta_1=.9, beta_2=.999, decay=decay)\n",
    "sgd = SGD(lr=.001)\n",
    "rmsprop = RMSprop(lr=.001)\n",
    "optimizers = [adam]\n",
    "for optimizer in optimizers:\n",
    "    print('Optimizer :'+str(optimizer))\n",
    "    model.compile(loss='categorical_crossentropy', optimizer=optimizer, metrics=['accuracy'])\n",
    "    model.fit(padded_train_title_X, train_y, validation_split=0.2, epochs=epochs, verbose=1, batch_size=32)\n",
    "    plt.figure()\n",
    "    plt.plot(model.history.history['accuracy'])\n",
    "    plt.plot(model.history.history['val_accuracy'])\n",
    "    plt.legend(['training', 'validation'])\n",
    "    plt.xlabel('epochs')\n",
    "    plt.xlabel('accuracy')\n",
    "    "
   ]
  }
 ],
 "metadata": {
  "kernelspec": {
   "display_name": "Python 3",
   "language": "python",
   "name": "python3"
  },
  "language_info": {
   "codemirror_mode": {
    "name": "ipython",
    "version": 3
   },
   "file_extension": ".py",
   "mimetype": "text/x-python",
   "name": "python",
   "nbconvert_exporter": "python",
   "pygments_lexer": "ipython3",
   "version": "3.6.6"
  }
 },
 "nbformat": 4,
 "nbformat_minor": 1
}
